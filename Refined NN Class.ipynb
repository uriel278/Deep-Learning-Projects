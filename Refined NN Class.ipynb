{
 "cells": [
  {
   "cell_type": "markdown",
   "metadata": {},
   "source": [
    "<h2>Creando funciones necesarias para las clases y métodos</h2>"
   ]
  },
  {
   "cell_type": "code",
   "execution_count": 1,
   "metadata": {},
   "outputs": [],
   "source": [
    "#import numpy as np # Importando Numpy porque dependemos de ella.\n",
    "import math\n",
    "import numpy as np\n",
    "from time import sleep\n",
    "\n",
    "\n",
    "#Todas las funciones están pensadas para ser implementadas sobre arrays de Numpy\n",
    "def identity(x):\n",
    "    return x\n",
    "\n",
    "def identityderiv(x):\n",
    "    return np.ones(x.shape)\n",
    "\n",
    "def relu(x):\n",
    "    return np.maximum(0,x)\n",
    "\n",
    "#def relu(x):\n",
    "#    return (x>=0)*x         #Problemas con esto\n",
    "\n",
    "def reluderiv(x):\n",
    "    return (x>=0)*1        #Problemas con esto\n",
    "\n",
    "def sigmoid(x):\n",
    "    return 1/(1+np.exp(-x))\n",
    "\n",
    "def sigmoidderiv(x):\n",
    "    s = sigmoid(x)       \n",
    "    s_1 = 1-s     \n",
    "    return s*s_1\n",
    "### Por el momento esta red neuronal usará solamente la MSE como función de costos, \n",
    "#   en el futuro se considerará ampliarla para que pueda ser entrenada usando otras funciones de costo."
   ]
  },
  {
   "cell_type": "markdown",
   "metadata": {},
   "source": [
    "<h2> Creando clase para layers </h2>"
   ]
  },
  {
   "cell_type": "code",
   "execution_count": 10,
   "metadata": {},
   "outputs": [],
   "source": [
    "## CLASE PARA CREAR CAPAS \n",
    "class layer:      #¿Hará falta una capa para nodos?\n",
    "    def __init__(self,tipo,datos,activacion):\n",
    "        self.tipo = tipo\n",
    "        self.activacion = activacion\n",
    "        self.input = datos\n",
    "        activ_expr = activacion+'('+'datos'+')'\n",
    "        self.valor = eval(activ_expr)\n",
    "        \n",
    "    def deriv(self):     \n",
    "        activprim_expr = self.activacion+'deriv('+'self.input'+')'\n",
    "        self.derivada = eval(activprim_expr)\n",
    "        return self.derivada\n",
    "    \n",
    "    def dim(self):\n",
    "        return self.valor.shape\n",
    "    \n",
    "    def __str__(self):\n",
    "        return str(self.valor)"
   ]
  },
  {
   "cell_type": "code",
   "execution_count": 3,
   "metadata": {},
   "outputs": [
    {
     "name": "stdout",
     "output_type": "stream",
     "text": [
      "[[ 1.00e+00  5.00e+00 -4.80e+01 -7.00e+00  8.00e+00  9.00e+00 -5.50e+01\n",
      "   0.00e+00  1.00e-04  4.54e+02 -8.88e+02]]\n"
     ]
    }
   ],
   "source": [
    "# Pruebas para ver que funcione la clase\n",
    "prueba = np.array([1,5,-48,-7,8,9,-55,0,0.0001,454,-888])\n",
    "prueba.shape = (1,11)\n",
    "layer_prueba = layer('none',prueba,'identity')\n",
    "print(layer_prueba)\n",
    "#print(layer_prueba.deriv())"
   ]
  },
  {
   "cell_type": "markdown",
   "metadata": {},
   "source": [
    "<h2> Creando la clase red neuronal </h2>"
   ]
  },
  {
   "cell_type": "code",
   "execution_count": 25,
   "metadata": {},
   "outputs": [],
   "source": [
    "class NN_modified:                         \n",
    "    def __init__(self,size):\n",
    "        self.info = [['input',size,'identity']] \n",
    "        self.WEIGHTS = []   #Atributo de los pesos\n",
    "        l=layer('input',np.random.random((1,size)),self.info[0][2])\n",
    "        self.LAYERS = [l]\n",
    "        self.DELTAS = []    \n",
    "    \n",
    "    def add_layer(self,type,size,activation):   #Método para agregar capas, con cada capa se agrega una nueva matriz de pesos y un delta\n",
    "        c = len(self.LAYERS)\n",
    "        layer_W = layer(type, np.random.random((1,size)),activation)\n",
    "        self.LAYERS.append(layer_W)\n",
    "        self.WEIGHTS.append(0.2*np.random.random((self.LAYERS[c-1].dim()[1], size))-0.1) #Interesante forma de inizializar los pesos.\n",
    "        layer_delta = layer(type, np.random.random((1,size)),activation)\n",
    "        self.DELTAS.append(layer_delta)\n",
    "    \n",
    "    def predict(self,X):    #Método para usar el modelo después del entrenamiento\n",
    "        prediction = X.copy() \n",
    "        for j in range(len(self.WEIGHTS)):\n",
    "            a = prediction.dot(self.WEIGHTS[j])\n",
    "            L = layer(self.LAYERS[j+1].tipo,a,self.LAYERS[j+1].activacion)  \n",
    "            prediction = L.valor\n",
    "        return prediction\n",
    "    \n",
    "    def train(self,X,Y,alpha,iterations):  #Rutina de entrenamiento\n",
    "        data_size = len(X)\n",
    "        for j in range(iterations):\n",
    "            error,preds = (0.0,0)\n",
    "            for i in range(data_size):\n",
    "                \n",
    "                ####FORWARDPASS\n",
    "                self.LAYERS[0] = layer('input',X[i:i+1],'identity')\n",
    "                for k in range(len(self.WEIGHTS)):\n",
    "                    z_values = self.LAYERS[k].valor.dot(self.WEIGHTS[k])\n",
    "                    a_values = layer(self.LAYERS[k+1].tipo,z_values,self.LAYERS[k+1].activacion)\n",
    "                    self.LAYERS[k+1] = a_values\n",
    "                #END FORWARDPASS\n",
    "                \n",
    "                #Algunas métricas\n",
    "                error += np.sum((Y[i:i+1]-self.LAYERS[len(self.WEIGHTS)].valor)**2)\n",
    "                #preds += int(np.argmax(self.LAYERS[len(self.WEIGHTS)].valor) == np.argmax(Y[i:i+1]))\n",
    "                #\n",
    "                \n",
    "                ## Actualizando deltas\n",
    "                self.DELTAS[len(self.DELTAS)-1] = (Y[i:i+1]-self.LAYERS[len(self.DELTAS)].valor\n",
    "                )*self.LAYERS[len(self.DELTAS)].deriv()\n",
    "                for k in range(len(self.DELTAS)-2,-1,-1):\n",
    "                    self.DELTAS[k] = self.DELTAS[k+1].dot(self.WEIGHTS[k+1].T)*self.LAYERS[k+1].deriv()\n",
    "                #Fin de actualización de deltas\n",
    "                \n",
    "                #### BACKWARDPASS\n",
    "                for k in range(len(self.WEIGHTS)-1,-1,-1):\n",
    "                    self.WEIGHTS[k] += alpha * self.LAYERS[k].valor.T.dot(self.DELTAS[k])\n",
    "            #Mostrando el progreso del entrenamiento        \n",
    "            print(\"\\rI\",f\" :{j+1}/{iterations} \",\" Error asociado: \",error/data_size,\n",
    "                  sep='',end='',flush=True)"
   ]
  },
  {
   "cell_type": "markdown",
   "metadata": {},
   "source": [
    "<h3> Implementando un autoencoder </h3>"
   ]
  },
  {
   "cell_type": "code",
   "execution_count": 58,
   "metadata": {},
   "outputs": [],
   "source": [
    "np.random.seed(94)\n",
    "\n",
    "from keras.datasets import mnist\n",
    "\n",
    "(x_train,y_train), (x_test,y_test) = mnist.load_data()\n",
    "images, labels  = (x_train[0:1000].reshape(1000,28**2)/255,y_train[0:1000])\n",
    "one_hot_labels = np.zeros((len(labels),10))\n",
    "\n",
    "for i,j in enumerate(labels):\n",
    "    one_hot_labels[i][j] = 1\n",
    "labels = one_hot_labels\n",
    "\n",
    "lr,iterations,hidden_size,pixels_per_image,num_labels = (0.005,350,40,784,10)   #Hyperparameters for fun"
   ]
  },
  {
   "cell_type": "code",
   "execution_count": 59,
   "metadata": {},
   "outputs": [],
   "source": [
    "autoencoder = NN_modified(pixels_per_image)\n",
    "autoencoder.add_layer('hidden encoder',size = 80,activation='relu')\n",
    "\n",
    "autoencoder.add_layer('hidden encoder',size = 60,activation='sigmoid')\n",
    "\n",
    "autoencoder.add_layer('hidden encoder',size = 30,activation='relu')\n",
    "\n",
    "autoencoder.add_layer('hidden encoder',size = 15,activation='identity')\n",
    "\n",
    "autoencoder.add_layer('hidden encoder',size = 7,activation='identity')\n",
    "\n",
    "autoencoder.add_layer('hidden encoder',size = 3,activation='relu')\n",
    "\n",
    "#autoencoder.add_layer('hidden decoder',size = 3,activation='sigmoid')\n",
    "\n",
    "autoencoder.add_layer('hidden decoder',size = 7,activation='relu')\n",
    "\n",
    "autoencoder.add_layer('hidden encoder',size = 15,activation='relu')\n",
    "\n",
    "autoencoder.add_layer('hidden encoder',size = 30,activation='sigmoid')\n",
    "\n",
    "autoencoder.add_layer('hidden encoder',size = 60,activation='relu')\n",
    "\n",
    "autoencoder.add_layer('hidden encoder',size = 80,activation='relu')\n",
    "\n",
    "autoencoder.add_layer('output encoder',size = pixels_per_image,activation='sigmoid')"
   ]
  },
  {
   "cell_type": "code",
   "execution_count": 60,
   "metadata": {},
   "outputs": [],
   "source": [
    "#for layer in autoencoder.LAYERS:\n",
    "#   print(layer.tipo,layer.activacion,layer.dim())"
   ]
  },
  {
   "cell_type": "code",
   "execution_count": 61,
   "metadata": {
    "scrolled": true
   },
   "outputs": [
    {
     "name": "stdout",
     "output_type": "stream",
     "text": [
      "I :500/500  Error asociado: 51.695228420410545"
     ]
    }
   ],
   "source": [
    "autoencoder.train(images,images,0.001,500)"
   ]
  },
  {
   "cell_type": "code",
   "execution_count": 62,
   "metadata": {},
   "outputs": [],
   "source": [
    "##Test images from MNIST dataset for model validation and hyperparameter tunning\n",
    "test_images = x_test.reshape(len(x_test),28**2)/255\n",
    "test_labels = np.zeros((len(y_test),10))\n",
    "for i,j in enumerate(y_test):\n",
    "    test_labels[i][j] = 1"
   ]
  },
  {
   "cell_type": "code",
   "execution_count": 63,
   "metadata": {},
   "outputs": [],
   "source": [
    "import matplotlib.pyplot as plt"
   ]
  },
  {
   "cell_type": "code",
   "execution_count": 85,
   "metadata": {},
   "outputs": [
    {
     "data": {
      "text/plain": [
       "<matplotlib.image.AxesImage at 0x7f6e50eec460>"
      ]
     },
     "execution_count": 85,
     "metadata": {},
     "output_type": "execute_result"
    },
    {
     "data": {
      "image/png": "[encoded data removed]",
      "text/plain": [
       "<Figure size 432x288 with 1 Axes>"
      ]
     },
     "metadata": {
      "needs_background": "light"
     },
     "output_type": "display_data"
    }
   ],
   "source": [
    "test_0 = test_images[1].reshape([28,28])\n",
    "#print(test_0)\n",
    "\n",
    "plt.imshow(test_0,cmap='gray')"
   ]
  },
  {
   "cell_type": "code",
   "execution_count": 86,
   "metadata": {},
   "outputs": [],
   "source": [
    "intento = autoencoder.predict(test_images[1])"
   ]
  },
  {
   "cell_type": "code",
   "execution_count": 87,
   "metadata": {},
   "outputs": [
    {
     "data": {
      "text/plain": [
       "<matplotlib.image.AxesImage at 0x7f6e5117baf0>"
      ]
     },
     "execution_count": 87,
     "metadata": {},
     "output_type": "execute_result"
    },
    {
     "data": {
      "image/png": "[encoded data removed]",
      "text/plain": [
       "<Figure size 432x288 with 1 Axes>"
      ]
     },
     "metadata": {
      "needs_background": "light"
     },
     "output_type": "display_data"
    }
   ],
   "source": [
    "test_intento = intento.reshape([28,28])\n",
    "plt.imshow(test_intento,cmap='gray')"
   ]
  },
  {
   "cell_type": "code",
   "execution_count": 2,
   "metadata": {},
   "outputs": [
    {
     "name": "stdout",
     "output_type": "stream",
     "text": [
      "[ 1. -0. 88.  0. -0. 55.]\n",
      "[ 1.  0. 88.  0.  0. 55.]\n"
     ]
    }
   ],
   "source": [
    "intento = np.array([1,-9.0,88,0,-7,55])\n",
    "print(relu(intento))\n",
    "print(relu2(intento))"
   ]
  },
  {
   "cell_type": "code",
   "execution_count": 3,
   "metadata": {},
   "outputs": [],
   "source": [
    "def reluder(x):\n",
    "    return np.heaviside(x,0)"
   ]
  },
  {
   "cell_type": "code",
   "execution_count": 6,
   "metadata": {},
   "outputs": [
    {
     "name": "stdout",
     "output_type": "stream",
     "text": [
      "<class 'numpy.ndarray'>\n",
      "<class 'numpy.ndarray'>\n"
     ]
    }
   ],
   "source": [
    "print(type(reluder(intento)))\n",
    "print(type(reluderiv(intento)))"
   ]
  }
 ],
 "metadata": {
  "kernelspec": {
   "display_name": "Python 3",
   "language": "python",
   "name": "python3"
  },
  "language_info": {
   "codemirror_mode": {
    "name": "ipython",
    "version": 3
   },
   "file_extension": ".py",
   "mimetype": "text/x-python",
   "name": "python",
   "nbconvert_exporter": "python",
   "pygments_lexer": "ipython3",
   "version": "3.8.5"
  }
 },
 "nbformat": 4,
 "nbformat_minor": 4
}
