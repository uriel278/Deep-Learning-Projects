{
 "cells": [
  {
   "cell_type": "markdown",
   "metadata": {},
   "source": [
    "<h3> Implementing a feedforward net from scratch using Numpy and Python OOP </h3>\n"
   ]
  },
  {
   "cell_type": "code",
   "execution_count": 9,
   "metadata": {},
   "outputs": [],
   "source": [
    "import numpy as np\n",
    "import matplotlib.pyplot as plt\n",
    "\n",
    "#Todas las funciones están pensadas para ser implementadas sobre arrays de Numpy\n",
    "def identity(x):\n",
    "    return x\n",
    "\n",
    "def identityderiv(x):\n",
    "    return np.ones(x.shape)\n",
    "\n",
    "def relu(x):\n",
    "    return np.maximum(x,0)\n",
    "\n",
    "def reluderiv(x):\n",
    "    return np.heaviside(x,0)\n",
    "\n",
    "def sigmoid(x):\n",
    "    return 1/(1+np.exp(-x))\n",
    "\n",
    "def sigmoidderiv(x):\n",
    "    s = sigmoid(x)       \n",
    "    s_1 = 1-s     \n",
    "    return s*s_1\n",
    "### Por el momento esta red neuronal usará solamente la MSE como función de costos, \n",
    "#   en el futuro se considerará ampliarla para que pueda ser entrenada usando otras funciones de costo.\n",
    "\n",
    "## CLASE PARA CREAR CAPAS \n",
    "class layer():      #¿Hará falta una capa para nodos?\n",
    "    def __init__(self,tipo,datos,activacion):\n",
    "        self.tipo = tipo\n",
    "        self.activacion = activacion\n",
    "        self.input = datos\n",
    "        activ_expr = activacion+'('+'datos'+')'\n",
    "        self.valor = eval(activ_expr)\n",
    "    def deriv(self):     \n",
    "        activprim_expr = self.activacion+'deriv('+'self.input'+')'\n",
    "        self.derivada = eval(activprim_expr)\n",
    "        return self.derivada\n",
    "    def dim(self):\n",
    "        return self.valor.shape\n",
    "    def __str__(self):\n",
    "        return str(self.valor)\n",
    "\n",
    "\n",
    "class NN():                         \n",
    "    def __init__(self,size):\n",
    "        self.info = [['input',size,'identity']] \n",
    "        self.WEIGHTS = []   #Atributo de los pesos\n",
    "        self.LAYERS = [layer('input',np.random.random((1,size)),self.info[0][2])]\n",
    "        self.DELTAS = []    \n",
    "    \n",
    "    def add_layer(self,type,size,activation):   #Método para agregar capas, con cada capa se agrega una nueva matriz de pesos y un delta\n",
    "        c = len(self.LAYERS)\n",
    "        self.LAYERS.append(layer(type, np.random.random((1,size)),activation))\n",
    "        self.WEIGHTS.append(0.2*np.random.random((self.LAYERS[c-1].dim()[1], size))-0.1) #Interesante forma de inizializar los pesos.\n",
    "        self.DELTAS.append(layer(type, np.random.random((1,size)),activation))\n",
    "    \n",
    "    def predict(self,X):    #Método para usar el modelo después del entrenamiento\n",
    "        prediction = X.copy() \n",
    "        for j in range(len(self.WEIGHTS)):\n",
    "            a = prediction.dot(self.WEIGHTS[j])\n",
    "            L = layer(self.LAYERS[j+1].tipo,a,self.LAYERS[j+1].activacion)  \n",
    "            prediction = L.valor\n",
    "        return prediction\n",
    "    \n",
    "    def train(self,X,Y,alpha,iterations):  #Rutina de entrenamiento\n",
    "        data_size = len(X)\n",
    "        for j in range(iterations):\n",
    "            error,preds = (0.0,0)\n",
    "            for i in range(data_size):\n",
    "                \n",
    "                ####FORWARDPASS\n",
    "                self.LAYERS[0] = layer('input',X[i:i+1],'identity')\n",
    "                for k in range(len(self.WEIGHTS)):\n",
    "                    z_values = self.LAYERS[k].valor.dot(self.WEIGHTS[k])\n",
    "                    a_values = layer(self.LAYERS[k+1].tipo,z_values,self.LAYERS[k+1].activacion)\n",
    "                    self.LAYERS[k+1] = a_values\n",
    "                #END FORWARDPASS\n",
    "                \n",
    "                #Algunas métricas\n",
    "                error += np.sum((Y[i:i+1]-self.LAYERS[len(self.WEIGHTS)].valor)**2)\n",
    "                preds += int(np.argmax(self.LAYERS[len(self.WEIGHTS)].valor) == np.argmax(Y[i:i+1]))\n",
    "                #\n",
    "                \n",
    "                ## Actualizando deltas\n",
    "                self.DELTAS[len(self.DELTAS)-1] = (Y[i:i+1]-self.LAYERS[len(self.DELTAS)].valor\n",
    "                )*self.LAYERS[len(self.DELTAS)].deriv()\n",
    "                for k in range(len(self.DELTAS)-2,-1,-1):\n",
    "                    self.DELTAS[k] = self.DELTAS[k+1].dot(self.WEIGHTS[k+1].T)*self.LAYERS[k+1].deriv()\n",
    "                #Fin de actualización de deltas\n",
    "                \n",
    "                #### BACKWARDPASS\n",
    "                for k in range(len(self.WEIGHTS)-1,-1,-1):\n",
    "                    self.WEIGHTS[k] += alpha * self.LAYERS[k].valor.T.dot(self.DELTAS[k])\n",
    "            #Mostrando el progreso del entrenamiento        \n",
    "            print(\"\\rI\",f\" :{j+1}/{iterations} \",\" Error asociado: \",error/data_size,\n",
    "            f\" Ejemplos clasificadas correctamente:{preds}/{data_size}\",sep='',end='',flush=True)"
   ]
  },
  {
   "cell_type": "code",
   "execution_count": 2,
   "metadata": {},
   "outputs": [],
   "source": [
    "np.random.seed(1)\n",
    "\n",
    "from keras.datasets import mnist\n",
    "\n",
    "(x_train,y_train), (x_test,y_test) = mnist.load_data()\n",
    "images, labels  = (x_train[0:1000].reshape(1000,28**2)/255,y_train[0:1000])\n",
    "one_hot_labels = np.zeros((len(labels),10))\n",
    "\n",
    "for i,j in enumerate(labels):\n",
    "    one_hot_labels[i][j] = 1\n",
    "labels = one_hot_labels\n",
    "##Test images from MNIST dataset for model validation and hyperparameter tunning\n",
    "test_images = x_test.reshape(len(x_test),28**2)/255\n",
    "test_labels = np.zeros((len(y_test),10))\n",
    "for i,j in enumerate(y_test):\n",
    "    test_labels[i][j] = 1\n",
    "\n"
   ]
  },
  {
   "cell_type": "code",
   "execution_count": 4,
   "metadata": {},
   "outputs": [
    {
     "name": "stdout",
     "output_type": "stream",
     "text": [
      "I :350/350  Error asociado: 0.0024873729670747092 Ejemplos clasificadas correctamente:1000/1000"
     ]
    }
   ],
   "source": [
    "lr,iterations,hidden_size,pixels_per_image,num_labels = (0.005,350,40,784,10)   #Hyperparameters for fun\n",
    "\n",
    "\n",
    "nn_mnist = NN(784)\n",
    "nn_mnist.add_layer('hidden', size=40, activation='relu')\n",
    "nn_mnist.add_layer('output', size=10, activation='identity')\n",
    "nn_mnist.train(images, labels, lr, iterations)   #Descomentar para la presentación"
   ]
  },
  {
   "cell_type": "markdown",
   "metadata": {},
   "source": [
    "<h2>Una demostración</h2>"
   ]
  },
  {
   "cell_type": "code",
   "execution_count": 72,
   "metadata": {
    "scrolled": true
   },
   "outputs": [
    {
     "name": "stdout",
     "output_type": "stream",
     "text": [
      "La red neuronal reconoce el dígito: 0 \n",
      "Y en realidad es un:  0\n"
     ]
    },
    {
     "data": {
      "image/png": "[encoded data removed]",
      "text/plain": [
       "<Figure size 432x288 with 1 Axes>"
      ]
     },
     "metadata": {
      "needs_background": "light"
     },
     "output_type": "display_data"
    }
   ],
   "source": [
    "index = np.random.randint(999)   #Con el index 1, 402, 507 hay error\n",
    "imagen = test_images[index:index+1]\n",
    "predicted_class = nn_mnist.predict(imagen)\n",
    "predicted_digit = np.argmax(predicted_class)\n",
    "plt.imshow(imagen.reshape([28,28]),cmap='gray')\n",
    "print('La red neuronal reconoce el dígito:',\n",
    "      predicted_digit, '\\nY en realidad es un: ',np.argmax(test_labels[index:index+1]))"
   ]
  },
  {
   "cell_type": "code",
   "execution_count": null,
   "metadata": {},
   "outputs": [],
   "source": []
  }
 ],
 "metadata": {
  "kernelspec": {
   "display_name": "Python 3",
   "language": "python",
   "name": "python3"
  },
  "language_info": {
   "codemirror_mode": {
    "name": "ipython",
    "version": 3
   },
   "file_extension": ".py",
   "mimetype": "text/x-python",
   "name": "python",
   "nbconvert_exporter": "python",
   "pygments_lexer": "ipython3",
   "version": "3.8.5"
  }
 },
 "nbformat": 4,
 "nbformat_minor": 2
}
